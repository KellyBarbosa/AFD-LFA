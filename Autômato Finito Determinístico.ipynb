{
 "cells": [
  {
   "cell_type": "markdown",
   "id": "72a2dfaf",
   "metadata": {},
   "source": [
    "# AFD\n",
    "\n",
    "O algoritmo a seguir foi implementado na linguagem python para simular um Autômato Finito Determinístico (AFD). Neste, utilizou-se uma tabela hash para armazenar as regras de transição do AFD. Uma estrutura de dados do tipo tabela hash possui uma complexidade do tipo O(1) para o tempo de busca e inserção independente da quantidade de dados. Neste tipo de estrutura, o pior caso de busca seria percorrer todos os dados armazenados na tabela. Dessa maneira, sendo N a quantidade de dados, a sua complexidade no pior caso seria O(N). "
   ]
  },
  {
   "cell_type": "markdown",
   "id": "80a68c0a",
   "metadata": {},
   "source": [
    "O algoritmo foi implementado seguindo as instruções passadas através do documento informativo fornecido. Assim, inicialmente foram declaradas a variáveis que armazenam os estados, os símbolos do alfabeto, a quantidade de transições e as transições do AFD. Na sequência, para cada estado do AFD foi gerada uma chave na tabela.  "
   ]
  },
  {
   "cell_type": "code",
   "execution_count": null,
   "id": "faad0731",
   "metadata": {},
   "outputs": [],
   "source": [
    "estados = input().split(\" \")\n",
    "simbolos = input().split(\" \")\n",
    "nTransicoes = int(input())\n",
    "afd = {}\n",
    "\n",
    "for i in estados:\n",
    "    afd[i] = {}"
   ]
  },
  {
   "cell_type": "markdown",
   "id": "76cc9289",
   "metadata": {},
   "source": [
    "Em seguida, foram armazenadas as triplas que continham o estado de origem, o caractere e o estado de destino na tabela hash. E, na sequência foram lidas as informações referentes aos estados (inicial e final) e as palavras."
   ]
  },
  {
   "cell_type": "code",
   "execution_count": null,
   "id": "2553c13a",
   "metadata": {},
   "outputs": [],
   "source": [
    "for i in range(0,nTransicoes):\n",
    "    o, c, d = input().split(\" \")\n",
    "    if c not in afd[o]:\n",
    "        afd[o][c] = d\n",
    "estadoInicial = input()\n",
    "estadosFinais = input().split(\" \")\n",
    "palavras = input().split(\" \")"
   ]
  },
  {
   "cell_type": "markdown",
   "id": "e3efc514",
   "metadata": {},
   "source": [
    "Por fim, foi realizada a verificação para cada palavra lida. Para isto utilizou-se a tabela hash já criada, assim, a complexidade do algoritmo é O(|w|) sendo |w| o tamanho de cada palavra informada. Sendo que, nas palavras reconhecidas pelo AFD, a saída é 'S'. Já nas palavras não reconhecidas pelo AFD, a saída é 'N'. "
   ]
  },
  {
   "cell_type": "code",
   "execution_count": null,
   "id": "9e8ac508",
   "metadata": {},
   "outputs": [],
   "source": [
    "for palavra in palavras:\n",
    "    estadoAtual = estadoInicial\n",
    "    erro = 0\n",
    "    for letra in palavra:\n",
    "        try:\n",
    "            estadoAtual = afd[estadoAtual][letra]\n",
    "        except KeyError:\n",
    "            erro = 1\n",
    "            break\n",
    "    if (estadoAtual not in estadosFinais) or (erro == 1):\n",
    "        print('N')\n",
    "    else:\n",
    "        print('S')"
   ]
  }
 ],
 "metadata": {
  "kernelspec": {
   "display_name": "Python 3 (ipykernel)",
   "language": "python",
   "name": "python3"
  },
  "language_info": {
   "codemirror_mode": {
    "name": "ipython",
    "version": 3
   },
   "file_extension": ".py",
   "mimetype": "text/x-python",
   "name": "python",
   "nbconvert_exporter": "python",
   "pygments_lexer": "ipython3",
   "version": "3.9.7"
  }
 },
 "nbformat": 4,
 "nbformat_minor": 5
}
